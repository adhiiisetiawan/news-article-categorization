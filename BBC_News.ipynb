{
  "nbformat": 4,
  "nbformat_minor": 0,
  "metadata": {
    "colab": {
      "name": "BBC News",
      "provenance": [],
      "collapsed_sections": []
    },
    "kernelspec": {
      "name": "python3",
      "display_name": "Python 3"
    },
    "language_info": {
      "name": "python"
    }
  },
  "cells": [
    {
      "cell_type": "code",
      "metadata": {
        "colab": {
          "base_uri": "https://localhost:8080/"
        },
        "id": "tLcLIBG-2v8j",
        "outputId": "69d88f2d-7ce8-4987-fc5b-9b75d70b62a6"
      },
      "source": [
        "!gdown --id 1rX10xeI3eUJmOLsc4pOPY6AnCLO8DxNj"
      ],
      "execution_count": null,
      "outputs": [
        {
          "output_type": "stream",
          "name": "stdout",
          "text": [
            "Downloading...\n",
            "From: https://drive.google.com/uc?id=1rX10xeI3eUJmOLsc4pOPY6AnCLO8DxNj\n",
            "To: /content/bbc-text.csv\n",
            "5.06MB [00:00, 23.6MB/s]\n"
          ]
        }
      ]
    },
    {
      "cell_type": "code",
      "metadata": {
        "id": "0eHUmiXa23Qz"
      },
      "source": [
        "import csv\n",
        "from tensorflow.keras.preprocessing.text import Tokenizer\n",
        "from tensorflow.keras.preprocessing.sequence import pad_sequences"
      ],
      "execution_count": null,
      "outputs": []
    },
    {
      "cell_type": "code",
      "metadata": {
        "id": "TwhJ7vM-3EHz"
      },
      "source": [
        "stopwords = [ \"a\", \"about\", \"above\", \"after\", \"again\", \"against\", \"all\", \"am\", \"an\", \"and\", \"any\", \"are\", \"as\", \"at\", \"be\", \"because\", \"been\", \"before\", \"being\", \"below\", \"between\", \"both\", \"but\", \"by\", \"could\", \"did\", \"do\", \"does\", \"doing\", \"down\", \"during\", \"each\", \"few\", \"for\", \"from\", \"further\", \"had\", \"has\", \"have\", \"having\", \"he\", \"he'd\", \"he'll\", \"he's\", \"her\", \"here\", \"here's\", \"hers\", \"herself\", \"him\", \"himself\", \"his\", \"how\", \"how's\", \"i\", \"i'd\", \"i'll\", \"i'm\", \"i've\", \"if\", \"in\", \"into\", \"is\", \"it\", \"it's\", \"its\", \"itself\", \"let's\", \"me\", \"more\", \"most\", \"my\", \"myself\", \"nor\", \"of\", \"on\", \"once\", \"only\", \"or\", \"other\", \"ought\", \"our\", \"ours\", \"ourselves\", \"out\", \"over\", \"own\", \"same\", \"she\", \"she'd\", \"she'll\", \"she's\", \"should\", \"so\", \"some\", \"such\", \"than\", \"that\", \"that's\", \"the\", \"their\", \"theirs\", \"them\", \"themselves\", \"then\", \"there\", \"there's\", \"these\", \"they\", \"they'd\", \"they'll\", \"they're\", \"they've\", \"this\", \"those\", \"through\", \"to\", \"too\", \"under\", \"until\", \"up\", \"very\", \"was\", \"we\", \"we'd\", \"we'll\", \"we're\", \"we've\", \"were\", \"what\", \"what's\", \"when\", \"when's\", \"where\", \"where's\", \"which\", \"while\", \"who\", \"who's\", \"whom\", \"why\", \"why's\", \"with\", \"would\", \"you\", \"you'd\", \"you'll\", \"you're\", \"you've\", \"your\", \"yours\", \"yourself\", \"yourselves\" ]"
      ],
      "execution_count": null,
      "outputs": []
    },
    {
      "cell_type": "code",
      "metadata": {
        "colab": {
          "base_uri": "https://localhost:8080/",
          "height": 204
        },
        "id": "ikRsrsA93Pl4",
        "outputId": "59a619b0-d17f-434f-820c-1c91e1082c6c"
      },
      "source": [
        "import pandas as pd\n",
        "\n",
        "df = pd.read_csv('bbc-text.csv')\n",
        "df.head()"
      ],
      "execution_count": null,
      "outputs": [
        {
          "output_type": "execute_result",
          "data": {
            "text/html": [
              "<div>\n",
              "<style scoped>\n",
              "    .dataframe tbody tr th:only-of-type {\n",
              "        vertical-align: middle;\n",
              "    }\n",
              "\n",
              "    .dataframe tbody tr th {\n",
              "        vertical-align: top;\n",
              "    }\n",
              "\n",
              "    .dataframe thead th {\n",
              "        text-align: right;\n",
              "    }\n",
              "</style>\n",
              "<table border=\"1\" class=\"dataframe\">\n",
              "  <thead>\n",
              "    <tr style=\"text-align: right;\">\n",
              "      <th></th>\n",
              "      <th>category</th>\n",
              "      <th>text</th>\n",
              "    </tr>\n",
              "  </thead>\n",
              "  <tbody>\n",
              "    <tr>\n",
              "      <th>0</th>\n",
              "      <td>tech</td>\n",
              "      <td>tv future in the hands of viewers with home th...</td>\n",
              "    </tr>\n",
              "    <tr>\n",
              "      <th>1</th>\n",
              "      <td>business</td>\n",
              "      <td>worldcom boss  left books alone  former worldc...</td>\n",
              "    </tr>\n",
              "    <tr>\n",
              "      <th>2</th>\n",
              "      <td>sport</td>\n",
              "      <td>tigers wary of farrell  gamble  leicester say ...</td>\n",
              "    </tr>\n",
              "    <tr>\n",
              "      <th>3</th>\n",
              "      <td>sport</td>\n",
              "      <td>yeading face newcastle in fa cup premiership s...</td>\n",
              "    </tr>\n",
              "    <tr>\n",
              "      <th>4</th>\n",
              "      <td>entertainment</td>\n",
              "      <td>ocean s twelve raids box office ocean s twelve...</td>\n",
              "    </tr>\n",
              "  </tbody>\n",
              "</table>\n",
              "</div>"
            ],
            "text/plain": [
              "        category                                               text\n",
              "0           tech  tv future in the hands of viewers with home th...\n",
              "1       business  worldcom boss  left books alone  former worldc...\n",
              "2          sport  tigers wary of farrell  gamble  leicester say ...\n",
              "3          sport  yeading face newcastle in fa cup premiership s...\n",
              "4  entertainment  ocean s twelve raids box office ocean s twelve..."
            ]
          },
          "metadata": {},
          "execution_count": 4
        }
      ]
    },
    {
      "cell_type": "code",
      "metadata": {
        "colab": {
          "base_uri": "https://localhost:8080/"
        },
        "id": "8kDft1og3Yjw",
        "outputId": "1f927770-7cb6-4bde-8426-73115498e486"
      },
      "source": [
        "sentences = []\n",
        "labels = []\n",
        "\n",
        "with open('bbc-text.csv', 'r') as csvfile:\n",
        "    reader = csv.reader(csvfile, delimiter=',')\n",
        "    next(reader)\n",
        "    for row in reader:\n",
        "        labels.append(row[0])\n",
        "        sentence = row[1]\n",
        "        for word in stopwords:\n",
        "            token = \" \" + word + \" \"\n",
        "            sentence = sentence.replace(token, \" \")\n",
        "            sentence = sentence.replace(\"  \", \" \")\n",
        "        sentences.append(sentence)\n",
        "\n",
        "print(len(sentences))\n",
        "print(sentences[0])\n",
        "print(\"\")\n",
        "print(\"Sentences: \\n\")\n",
        "sentences[:5]"
      ],
      "execution_count": null,
      "outputs": [
        {
          "output_type": "stream",
          "name": "stdout",
          "text": [
            "2225\n",
            "tv future hands viewers home theatre systems plasma high-definition tvs digital video recorders moving living room way people watch tv will radically different five years time. according expert panel gathered annual consumer electronics show las vegas discuss new technologies will impact one favourite pastimes. us leading trend programmes content will delivered viewers via home networks cable satellite telecoms companies broadband service providers front rooms portable devices. one talked-about technologies ces digital personal video recorders (dvr pvr). set-top boxes like us s tivo uk s sky+ system allow people record store play pause forward wind tv programmes want. essentially technology allows much personalised tv. also built-in high-definition tv sets big business japan us slower take off europe lack high-definition programming. not can people forward wind adverts can also forget abiding network channel schedules putting together a-la-carte entertainment. us networks cable satellite companies worried means terms advertising revenues well brand identity viewer loyalty channels. although us leads technology moment also concern raised europe particularly growing uptake services like sky+. happens today will see nine months years time uk adam hume bbc broadcast s futurologist told bbc news website. likes bbc no issues lost advertising revenue yet. pressing issue moment commercial uk broadcasters brand loyalty important everyone. will talking content brands rather network brands said tim hanlon brand communications firm starcom mediavest. reality broadband connections anybody can producer content. added: challenge now hard promote programme much choice. means said stacey jolna senior vice president tv guide tv group way people find content want watch simplified tv viewers. means networks us terms channels take leaf google s book search engine future instead scheduler help people find want watch. kind channel model might work younger ipod generation used taking control gadgets play them. might not suit everyone panel recognised. older generations comfortable familiar schedules channel brands know getting. perhaps not want much choice put hands mr hanlon suggested. end kids just diapers pushing buttons already - everything possible available said mr hanlon. ultimately consumer will tell market want. 50 000 new gadgets technologies showcased ces many enhancing tv-watching experience. high-definition tv sets everywhere many new models lcd (liquid crystal display) tvs launched dvr capability built instead external boxes. one example launched show humax s 26-inch lcd tv 80-hour tivo dvr dvd recorder. one us s biggest satellite tv companies directtv even launched branded dvr show 100-hours recording capability instant replay search function. set can pause rewind tv 90 hours. microsoft chief bill gates announced pre-show keynote speech partnership tivo called tivotogo means people can play recorded programmes windows pcs mobile devices. reflect increasing trend freeing multimedia people can watch want want.\n",
            "\n",
            "Sentences: \n",
            "\n"
          ]
        },
        {
          "output_type": "execute_result",
          "data": {
            "text/plain": [
              "['tv future hands viewers home theatre systems plasma high-definition tvs digital video recorders moving living room way people watch tv will radically different five years time. according expert panel gathered annual consumer electronics show las vegas discuss new technologies will impact one favourite pastimes. us leading trend programmes content will delivered viewers via home networks cable satellite telecoms companies broadband service providers front rooms portable devices. one talked-about technologies ces digital personal video recorders (dvr pvr). set-top boxes like us s tivo uk s sky+ system allow people record store play pause forward wind tv programmes want. essentially technology allows much personalised tv. also built-in high-definition tv sets big business japan us slower take off europe lack high-definition programming. not can people forward wind adverts can also forget abiding network channel schedules putting together a-la-carte entertainment. us networks cable satellite companies worried means terms advertising revenues well brand identity viewer loyalty channels. although us leads technology moment also concern raised europe particularly growing uptake services like sky+. happens today will see nine months years time uk adam hume bbc broadcast s futurologist told bbc news website. likes bbc no issues lost advertising revenue yet. pressing issue moment commercial uk broadcasters brand loyalty important everyone. will talking content brands rather network brands said tim hanlon brand communications firm starcom mediavest. reality broadband connections anybody can producer content. added: challenge now hard promote programme much choice. means said stacey jolna senior vice president tv guide tv group way people find content want watch simplified tv viewers. means networks us terms channels take leaf google s book search engine future instead scheduler help people find want watch. kind channel model might work younger ipod generation used taking control gadgets play them. might not suit everyone panel recognised. older generations comfortable familiar schedules channel brands know getting. perhaps not want much choice put hands mr hanlon suggested. end kids just diapers pushing buttons already - everything possible available said mr hanlon. ultimately consumer will tell market want. 50 000 new gadgets technologies showcased ces many enhancing tv-watching experience. high-definition tv sets everywhere many new models lcd (liquid crystal display) tvs launched dvr capability built instead external boxes. one example launched show humax s 26-inch lcd tv 80-hour tivo dvr dvd recorder. one us s biggest satellite tv companies directtv even launched branded dvr show 100-hours recording capability instant replay search function. set can pause rewind tv 90 hours. microsoft chief bill gates announced pre-show keynote speech partnership tivo called tivotogo means people can play recorded programmes windows pcs mobile devices. reflect increasing trend freeing multimedia people can watch want want.',\n",
              " 'worldcom boss left books alone former worldcom boss bernie ebbers accused overseeing $11bn (£5.8bn) fraud never made accounting decisions witness told jurors. david myers made comments questioning defence lawyers arguing mr ebbers not responsible worldcom s problems. phone company collapsed 2002 prosecutors claim losses hidden protect firm s shares. mr myers already pleaded guilty fraud assisting prosecutors. monday defence lawyer reid weingarten tried distance client allegations. cross examination asked mr myers ever knew mr ebbers make accounting decision . not aware mr myers replied. ever know mr ebbers make accounting entry worldcom books mr weingarten pressed. no replied witness. mr myers admitted ordered false accounting entries request former worldcom chief financial officer scott sullivan. defence lawyers trying paint mr sullivan admitted fraud will testify later trial mastermind behind worldcom s accounting house cards. mr ebbers team meanwhile looking portray affable boss admission pe graduate economist. whatever abilities mr ebbers transformed worldcom relative unknown $160bn telecoms giant investor darling late 1990s. worldcom s problems mounted however competition increased telecoms boom petered out. firm finally collapsed shareholders lost $180bn 20 000 workers lost jobs. mr ebbers trial expected last two months found guilty former ceo faces substantial jail sentence. firmly declared innocence.',\n",
              " 'tigers wary farrell gamble leicester say will not rushed making bid andy farrell great britain rugby league captain decide switch codes. anybody else involved process still way away going next stage tigers boss john wells told bbc radio leicester. moment still lot unknowns andy farrell not least medical situation. whoever take going take big big gamble. farrell persistent knee problems operation knee five weeks ago expected another three months. leicester saracens believed head list rugby union clubs interested signing farrell decides move 15-man game. move across union wells believes better off playing backs least initially. m sure make step league union involved centre said wells. think england prefer progress position back row can make use rugby league skills within forwards. jury whether can cross divide. club balance will struck cost gamble option bringing ready-made replacement.',\n",
              " 'yeading face newcastle fa cup premiership side newcastle united face trip ryman premier league leaders yeading fa cup third round. game - arguably highlight draw - potential money-spinner non-league yeading beat slough second round. conference side exeter city knocked doncaster saturday will travel old trafford meet holders manchester united january. arsenal drawn home stoke chelsea will play host scunthorpe. non-league side draw hinckley united held brentford goalless draw sunday. will meet league one leaders luton win replay martin allen s team griffin park. number premiership teams face difficult away games championship sides weekend 8/9 january. third-placed everton visit plymouth liverpool travel burnley crystal palace go sunderland fulham face carling cup semi-finalists watford bolton meet ipswich aston villa drawn sheffield united. premiership strugglers norwich blackburn west brom away west ham cardiff preston north end respectively. southampton visit northampton already beaten league two side carling cup earlier season. middlesbrough drawn away either swindon notts county spurs entertain brighton white hart lane. arsenal v stoke swindon/notts co v middlesbrough man utd v exeter plymouth v everton leicester v blackpool derby v wigan sunderland v crystal palace wolves v millwall yeading v newcastle hull v colchester tottenham v brighton reading v stockport/swansea birmingham v leeds hartlepool v boston milton keynes dons v peterborough oldham v man city chelsea v scunthorpe cardiff v blackburn charlton v rochdale west ham v norwich sheff utd v aston villa preston v west brom rotherham v yeovil burnley v liverpool bournemouth v chester coventry v crewe watford v fulham ipswich v bolton portsmouth v gillingham northampton v southampton qpr v nottm forest luton v hinckley/brentford matches played weekend 8/9 january.',\n",
              " 'ocean s twelve raids box office ocean s twelve crime caper sequel starring george clooney brad pitt julia roberts gone straight number one us box office chart. took $40.8m (£21m) weekend ticket sales according studio estimates. sequel follows master criminals try pull off three major heists across europe. knocked last week s number one national treasure third place. wesley snipes blade: trinity second taking $16.1m (£8.4m). rounding top five animated fable polar express starring tom hanks festive comedy christmas kranks. ocean s twelve box office triumph marks fourth-biggest opening december release us three films lord rings trilogy. sequel narrowly beat 2001 predecessor ocean s eleven took $38.1m (£19.8m) opening weekend $184m (£95.8m) total. remake 1960s film starring frank sinatra rat pack ocean s eleven directed oscar-winning director steven soderbergh. soderbergh returns direct hit sequel reunites clooney pitt roberts matt damon andy garcia elliott gould. catherine zeta-jones joins all-star cast. s just fun good holiday movie said dan fellman president distribution warner bros. however us critics less complimentary $110m (£57.2m) project los angeles times labelling dispiriting vanity project . milder review new york times dubbed sequel unabashedly trivial .']"
            ]
          },
          "metadata": {},
          "execution_count": 5
        }
      ]
    },
    {
      "cell_type": "code",
      "metadata": {
        "id": "7_oowrXqAh6j"
      },
      "source": [
        "vocab_size = 1000\n",
        "embedding_dim = 16\n",
        "max_length = 120\n",
        "trunc_type = 'post'\n",
        "padding_type = 'post'\n",
        "oov_tok = '<OOV>'\n",
        "training_portion = .8"
      ],
      "execution_count": null,
      "outputs": []
    },
    {
      "cell_type": "code",
      "metadata": {
        "colab": {
          "base_uri": "https://localhost:8080/"
        },
        "id": "3uMcqF1OZjQM",
        "outputId": "362758ba-6c07-4fdc-ff11-faa36ab2f3f5"
      },
      "source": [
        "train_size = int(len(sentences) * training_portion)\n",
        "\n",
        "train_sentences = sentences[0:train_size]\n",
        "train_labels = labels[0:train_size]\n",
        "\n",
        "validation_sentences = sentences[train_size:]\n",
        "validation_labels = labels[train_size:]\n",
        "\n",
        "print(train_size)\n",
        "print(len(train_sentences))\n",
        "print(len(train_labels))\n",
        "print(len(validation_sentences))\n",
        "print(len(validation_labels))"
      ],
      "execution_count": null,
      "outputs": [
        {
          "output_type": "stream",
          "name": "stdout",
          "text": [
            "1780\n",
            "1780\n",
            "1780\n",
            "445\n",
            "445\n"
          ]
        }
      ]
    },
    {
      "cell_type": "code",
      "metadata": {
        "colab": {
          "base_uri": "https://localhost:8080/"
        },
        "id": "FqmbVwOlZm-N",
        "outputId": "c474ee21-e597-4478-ffbd-5bdb6ff9438b"
      },
      "source": [
        "tokenizer = Tokenizer(num_words=vocab_size, oov_token=oov_tok)\n",
        "tokenizer.fit_on_texts(train_sentences)\n",
        "word_index = tokenizer.word_index\n",
        "\n",
        "train_sequences = tokenizer.texts_to_sequences(train_sentences)\n",
        "train_padded = pad_sequences(train_sequences, maxlen=max_length, padding=padding_type, truncating=trunc_type)\n",
        "\n",
        "print(len(train_sequences[0]))\n",
        "print(len(train_padded[0]))\n",
        "\n",
        "print(len(train_sequences[1]))\n",
        "print(len(train_padded[1]))\n",
        "\n",
        "print(len(train_sequences[10]))\n",
        "print(len(train_padded[10]))"
      ],
      "execution_count": null,
      "outputs": [
        {
          "output_type": "stream",
          "name": "stdout",
          "text": [
            "449\n",
            "120\n",
            "200\n",
            "120\n",
            "192\n",
            "120\n"
          ]
        }
      ]
    },
    {
      "cell_type": "code",
      "metadata": {
        "colab": {
          "base_uri": "https://localhost:8080/"
        },
        "id": "EcJqMh7VZohX",
        "outputId": "1d01282a-aa7f-437e-cfdd-9f4be3e8bce7"
      },
      "source": [
        "validation_sequences = tokenizer.texts_to_sequences(validation_sentences)\n",
        "validation_padded = pad_sequences(validation_sequences, maxlen=max_length, padding=padding_type, truncating=trunc_type)\n",
        "\n",
        "print(len(validation_sequences))\n",
        "print(validation_padded.shape)"
      ],
      "execution_count": null,
      "outputs": [
        {
          "output_type": "stream",
          "name": "stdout",
          "text": [
            "445\n",
            "(445, 120)\n"
          ]
        }
      ]
    },
    {
      "cell_type": "code",
      "metadata": {
        "colab": {
          "base_uri": "https://localhost:8080/"
        },
        "id": "CcoQIc5IZrhw",
        "outputId": "e6e1549a-48ab-471d-afb2-e2300c1e8341"
      },
      "source": [
        "import numpy as np\n",
        "\n",
        "label_tokenizer = Tokenizer()\n",
        "label_tokenizer.fit_on_texts(labels)\n",
        "\n",
        "training_label_seq = np.array(label_tokenizer.texts_to_sequences(train_labels))\n",
        "validation_label_seq = np.array(label_tokenizer.texts_to_sequences(validation_labels))\n",
        "\n",
        "print(training_label_seq[0])\n",
        "print(training_label_seq[1])\n",
        "print(training_label_seq[2])\n",
        "print(training_label_seq.shape)\n",
        "\n",
        "print(validation_label_seq[0])\n",
        "print(validation_label_seq[1])\n",
        "print(validation_label_seq[2])\n",
        "print(validation_label_seq.shape)"
      ],
      "execution_count": null,
      "outputs": [
        {
          "output_type": "stream",
          "name": "stdout",
          "text": [
            "[4]\n",
            "[2]\n",
            "[1]\n",
            "(1780, 1)\n",
            "[5]\n",
            "[4]\n",
            "[3]\n",
            "(445, 1)\n"
          ]
        }
      ]
    },
    {
      "cell_type": "code",
      "metadata": {
        "colab": {
          "base_uri": "https://localhost:8080/"
        },
        "id": "ae2fTtqxZtnB",
        "outputId": "01390323-7b3f-4be3-faa5-48994a7c2cd3"
      },
      "source": [
        "import tensorflow as tf\n",
        "\n",
        "model = tf.keras.Sequential([\n",
        "    tf.keras.layers.Embedding(vocab_size, embedding_dim, input_length=max_length),\n",
        "    tf.keras.layers.GlobalAveragePooling1D(),\n",
        "    tf.keras.layers.Dense(24, activation='relu'),\n",
        "    tf.keras.layers.Dense(6, activation='softmax')\n",
        "])\n",
        "model.compile(loss='sparse_categorical_crossentropy',optimizer='adam',metrics=['accuracy'])\n",
        "model.summary()"
      ],
      "execution_count": null,
      "outputs": [
        {
          "output_type": "stream",
          "name": "stdout",
          "text": [
            "Model: \"sequential\"\n",
            "_________________________________________________________________\n",
            "Layer (type)                 Output Shape              Param #   \n",
            "=================================================================\n",
            "embedding (Embedding)        (None, 120, 16)           16000     \n",
            "_________________________________________________________________\n",
            "global_average_pooling1d (Gl (None, 16)                0         \n",
            "_________________________________________________________________\n",
            "dense (Dense)                (None, 24)                408       \n",
            "_________________________________________________________________\n",
            "dense_1 (Dense)              (None, 6)                 150       \n",
            "=================================================================\n",
            "Total params: 16,558\n",
            "Trainable params: 16,558\n",
            "Non-trainable params: 0\n",
            "_________________________________________________________________\n"
          ]
        }
      ]
    },
    {
      "cell_type": "code",
      "metadata": {
        "colab": {
          "base_uri": "https://localhost:8080/"
        },
        "id": "P-n0D5KyZ0Ie",
        "outputId": "d1d5d1e7-75e9-419f-cf02-4f0102ff2318"
      },
      "source": [
        "num_epochs = 30\n",
        "history = model.fit(\n",
        "    train_padded,\n",
        "    training_label_seq,\n",
        "    epochs=num_epochs,\n",
        "    validation_data=(validation_padded, validation_label_seq),\n",
        "    verbose=2\n",
        ")"
      ],
      "execution_count": null,
      "outputs": [
        {
          "output_type": "stream",
          "name": "stdout",
          "text": [
            "Epoch 1/30\n",
            "56/56 - 1s - loss: 1.7587 - accuracy: 0.2388 - val_loss: 1.7133 - val_accuracy: 0.3843\n",
            "Epoch 2/30\n",
            "56/56 - 0s - loss: 1.6569 - accuracy: 0.4624 - val_loss: 1.5902 - val_accuracy: 0.4831\n",
            "Epoch 3/30\n",
            "56/56 - 0s - loss: 1.5170 - accuracy: 0.5691 - val_loss: 1.4367 - val_accuracy: 0.6427\n",
            "Epoch 4/30\n",
            "56/56 - 0s - loss: 1.3388 - accuracy: 0.6354 - val_loss: 1.2432 - val_accuracy: 0.6787\n",
            "Epoch 5/30\n",
            "56/56 - 0s - loss: 1.1271 - accuracy: 0.7118 - val_loss: 1.0415 - val_accuracy: 0.7955\n",
            "Epoch 6/30\n",
            "56/56 - 0s - loss: 0.9230 - accuracy: 0.8404 - val_loss: 0.8650 - val_accuracy: 0.8562\n",
            "Epoch 7/30\n",
            "56/56 - 0s - loss: 0.7469 - accuracy: 0.8921 - val_loss: 0.7268 - val_accuracy: 0.8809\n",
            "Epoch 8/30\n",
            "56/56 - 0s - loss: 0.6087 - accuracy: 0.9208 - val_loss: 0.6273 - val_accuracy: 0.8921\n",
            "Epoch 9/30\n",
            "56/56 - 0s - loss: 0.5017 - accuracy: 0.9331 - val_loss: 0.5380 - val_accuracy: 0.8876\n",
            "Epoch 10/30\n",
            "56/56 - 0s - loss: 0.4143 - accuracy: 0.9444 - val_loss: 0.4690 - val_accuracy: 0.9124\n",
            "Epoch 11/30\n",
            "56/56 - 0s - loss: 0.3457 - accuracy: 0.9506 - val_loss: 0.4216 - val_accuracy: 0.8989\n",
            "Epoch 12/30\n",
            "56/56 - 0s - loss: 0.2918 - accuracy: 0.9596 - val_loss: 0.3804 - val_accuracy: 0.9034\n",
            "Epoch 13/30\n",
            "56/56 - 0s - loss: 0.2495 - accuracy: 0.9669 - val_loss: 0.3413 - val_accuracy: 0.9124\n",
            "Epoch 14/30\n",
            "56/56 - 0s - loss: 0.2121 - accuracy: 0.9725 - val_loss: 0.3169 - val_accuracy: 0.9191\n",
            "Epoch 15/30\n",
            "56/56 - 0s - loss: 0.1829 - accuracy: 0.9758 - val_loss: 0.2938 - val_accuracy: 0.9236\n",
            "Epoch 16/30\n",
            "56/56 - 0s - loss: 0.1591 - accuracy: 0.9809 - val_loss: 0.2808 - val_accuracy: 0.9258\n",
            "Epoch 17/30\n",
            "56/56 - 0s - loss: 0.1394 - accuracy: 0.9809 - val_loss: 0.2611 - val_accuracy: 0.9281\n",
            "Epoch 18/30\n",
            "56/56 - 0s - loss: 0.1227 - accuracy: 0.9837 - val_loss: 0.2517 - val_accuracy: 0.9326\n",
            "Epoch 19/30\n",
            "56/56 - 0s - loss: 0.1092 - accuracy: 0.9865 - val_loss: 0.2426 - val_accuracy: 0.9281\n",
            "Epoch 20/30\n",
            "56/56 - 0s - loss: 0.0969 - accuracy: 0.9893 - val_loss: 0.2340 - val_accuracy: 0.9371\n",
            "Epoch 21/30\n",
            "56/56 - 0s - loss: 0.0869 - accuracy: 0.9904 - val_loss: 0.2297 - val_accuracy: 0.9371\n",
            "Epoch 22/30\n",
            "56/56 - 0s - loss: 0.0785 - accuracy: 0.9916 - val_loss: 0.2210 - val_accuracy: 0.9371\n",
            "Epoch 23/30\n",
            "56/56 - 0s - loss: 0.0705 - accuracy: 0.9938 - val_loss: 0.2205 - val_accuracy: 0.9416\n",
            "Epoch 24/30\n",
            "56/56 - 0s - loss: 0.0635 - accuracy: 0.9949 - val_loss: 0.2188 - val_accuracy: 0.9303\n",
            "Epoch 25/30\n",
            "56/56 - 0s - loss: 0.0576 - accuracy: 0.9961 - val_loss: 0.2165 - val_accuracy: 0.9393\n",
            "Epoch 26/30\n",
            "56/56 - 0s - loss: 0.0518 - accuracy: 0.9978 - val_loss: 0.2159 - val_accuracy: 0.9348\n",
            "Epoch 27/30\n",
            "56/56 - 0s - loss: 0.0469 - accuracy: 0.9989 - val_loss: 0.2145 - val_accuracy: 0.9348\n",
            "Epoch 28/30\n",
            "56/56 - 0s - loss: 0.0428 - accuracy: 0.9983 - val_loss: 0.2127 - val_accuracy: 0.9371\n",
            "Epoch 29/30\n",
            "56/56 - 0s - loss: 0.0390 - accuracy: 0.9983 - val_loss: 0.2140 - val_accuracy: 0.9348\n",
            "Epoch 30/30\n",
            "56/56 - 0s - loss: 0.0358 - accuracy: 0.9989 - val_loss: 0.2133 - val_accuracy: 0.9326\n"
          ]
        }
      ]
    },
    {
      "cell_type": "code",
      "metadata": {
        "colab": {
          "base_uri": "https://localhost:8080/",
          "height": 541
        },
        "id": "SBlOD0kmZ59h",
        "outputId": "3a5f89d5-e6d2-4310-88db-a07b2e741c63"
      },
      "source": [
        "import matplotlib.pyplot as plt\n",
        "\n",
        "\n",
        "def plot_graphs(history, string):\n",
        "  plt.plot(history.history[string])\n",
        "  plt.plot(history.history['val_'+string])\n",
        "  plt.xlabel(\"Epochs\")\n",
        "  plt.ylabel(string)\n",
        "  plt.legend([string, 'val_'+string])\n",
        "  plt.show()\n",
        "  \n",
        "plot_graphs(history, \"accuracy\")\n",
        "plot_graphs(history, \"loss\")"
      ],
      "execution_count": null,
      "outputs": [
        {
          "output_type": "display_data",
          "data": {
            "image/png": "[encoded data removed]",
            "text/plain": [
              "<Figure size 432x288 with 1 Axes>"
            ]
          },
          "metadata": {
            "needs_background": "light"
          }
        },
        {
          "output_type": "display_data",
          "data": {
            "image/png": "[encoded data removed]",
            "text/plain": [
              "<Figure size 432x288 with 1 Axes>"
            ]
          },
          "metadata": {
            "needs_background": "light"
          }
        }
      ]
    },
    {
      "cell_type": "code",
      "metadata": {
        "id": "w7Xc-uWxXhML"
      },
      "source": [
        "reverse_word_index = dict([(value, key) for (key, value) in word_index.items()])\n",
        "\n",
        "def decode_sentence(text):\n",
        "    return ' '.join([reverse_word_index.get(i, '?') for i in text])"
      ],
      "execution_count": null,
      "outputs": []
    },
    {
      "cell_type": "code",
      "metadata": {
        "id": "OhnFA_TDXrih"
      },
      "source": [
        "e = model.layers[0]\n",
        "weights = e.get_weights()[0]\n",
        "print(weights.shape)"
      ],
      "execution_count": null,
      "outputs": []
    },
    {
      "cell_type": "code",
      "metadata": {
        "id": "_POzcWWAXudL"
      },
      "source": [
        "import io\n",
        "\n",
        "out_v = io.open('vecs.tsv', 'w', encoding='utf-8')\n",
        "out_m = io.open('meta.tsv', 'w', encoding='utf-8')\n",
        "for word_num in range(1, vocab_size):\n",
        "  word = reverse_word_index[word_num]\n",
        "  embeddings = weights[word_num]\n",
        "  out_m.write(word + \"\\n\")\n",
        "  out_v.write('\\t'.join([str(x) for x in embeddings]) + \"\\n\")\n",
        "out_v.close()\n",
        "out_m.close()"
      ],
      "execution_count": null,
      "outputs": []
    },
    {
      "cell_type": "code",
      "metadata": {
        "id": "VmqpQMZ_XyOa"
      },
      "source": [
        "try:\n",
        "  from google.colab import files\n",
        "except ImportError:\n",
        "  pass\n",
        "else:\n",
        "  files.download('vecs.tsv')\n",
        "  files.download('meta.tsv')"
      ],
      "execution_count": null,
      "outputs": []
    }
  ]
}